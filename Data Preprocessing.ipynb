{
 "cells": [
  {
   "cell_type": "markdown",
   "id": "3fde1bc9-93d2-4a7c-8b73-ff29e53ba9e9",
   "metadata": {},
   "source": [
    "Data import"
   ]
  },
  {
   "cell_type": "code",
   "execution_count": 37,
   "id": "822249ea-442f-4d6d-972e-97ef6c7d41cf",
   "metadata": {},
   "outputs": [],
   "source": [
    "import pandas as pd\n",
    "\n",
    "# Paths to the data files\n",
    "training_path = \"/Users/christy/Desktop/ELEC0095/BENG0095 (202425) Group Coursework Brief-20241021/Dataset/diabetic_data_training.csv\"\n",
    "test_path = \"/Users/christy/Desktop/ELEC0095/BENG0095 (202425) Group Coursework Brief-20241021/Dataset/diabetic_data_test.csv\"\n",
    "feature_table_path = \"/Users/christy/Desktop/ELEC0095/BENG0095 (202425) Group Coursework Brief-20241021/Dataset/FeatureTable.xlsx\"\n",
    "ids_mapping_path = \"/Users/christy/Desktop/ELEC0095/BENG0095 (202425) Group Coursework Brief-20241021/Dataset/IDS_mapping.csv\"\n",
    "\n",
    "# Load the datasets\n",
    "diabetic_data_train = pd.read_csv(training_path)\n",
    "diabetic_data_test = pd.read_csv(test_path)\n",
    "feature_table = pd.read_excel(feature_table_path)\n",
    "ids_mapping = pd.read_csv(ids_mapping_path)\n"
   ]
  },
  {
   "cell_type": "markdown",
   "id": "dc7ce71f-0b35-4e80-b8fe-15d08afeed77",
   "metadata": {},
   "source": [
    "Discard the IDs"
   ]
  },
  {
   "cell_type": "code",
   "execution_count": 77,
   "id": "03765b1f-b274-49a0-9a5c-3a68a51293b9",
   "metadata": {},
   "outputs": [],
   "source": [
    "# Discard 'encounter_id' and 'patient_nbr' columns\n",
    "columns_to_discard = ['encounter_id', 'patient_nbr']\n",
    "diabetic_data_train = diabetic_data_train.drop(columns=columns_to_discard, errors='ignore')\n",
    "diabetic_data_test = diabetic_data_test.drop(columns=columns_to_discard, errors='ignore')\n"
   ]
  },
  {
   "cell_type": "markdown",
   "id": "986f7e60-5c94-497d-ae62-649f726dc27a",
   "metadata": {},
   "source": [
    "Calculate the percentage of missing value"
   ]
  },
  {
   "cell_type": "code",
   "execution_count": 68,
   "id": "ccaaa7bb-2fed-4f2a-a4dc-a5a7d6042b87",
   "metadata": {},
   "outputs": [
    {
     "name": "stdout",
     "output_type": "stream",
     "text": [
      "             Feature  Missing value(Train)  Missing value(Test)\n",
      "5             diag_1              0.022929             0.000000\n",
      "0             diag_2              0.349387             0.373391\n",
      "4             diag_3              1.382262             1.542694\n",
      "2  medical_specialty             49.123803            48.707871\n",
      "1               race              2.248087             2.102781\n",
      "3             weight             96.904650            96.442960\n"
     ]
    }
   ],
   "source": [
    "# Calculate the percentage of '?' values for each column in the train and test datasets\n",
    "train_question_mark_percentage = diabetic_data_train.isin(['?']).mean() * 100\n",
    "test_question_mark_percentage = diabetic_data_test.isin(['?']).mean() * 100\n",
    "\n",
    "# Filter out columns where the percentage is 0 in both datasets\n",
    "filtered_train = train_question_mark_percentage[train_question_mark_percentage > 0]\n",
    "filtered_test = test_question_mark_percentage[test_question_mark_percentage > 0]\n",
    "\n",
    "# Combine results into a single DataFrame for display\n",
    "filtered_columns = set(filtered_train.index).union(filtered_test.index)\n",
    "question_mark_filtered_df = pd.DataFrame({\n",
    "    'Feature': list(filtered_columns),\n",
    "    'Missing value(Train)': [filtered_train.get(col, 0) for col in filtered_columns],\n",
    "    'Missing value(Test)': [filtered_test.get(col, 0) for col in filtered_columns]\n",
    "}).sort_values(by='Feature')\n",
    "\n",
    "# Display the filtered DataFrame\n",
    "print(question_mark_filtered_df)"
   ]
  },
  {
   "cell_type": "code",
   "execution_count": null,
   "id": "0f7b9212-f362-47fb-8d31-b77969c03f01",
   "metadata": {},
   "outputs": [],
   "source": []
  }
 ],
 "metadata": {
  "kernelspec": {
   "display_name": "Python 3 (ipykernel)",
   "language": "python",
   "name": "python3"
  },
  "language_info": {
   "codemirror_mode": {
    "name": "ipython",
    "version": 3
   },
   "file_extension": ".py",
   "mimetype": "text/x-python",
   "name": "python",
   "nbconvert_exporter": "python",
   "pygments_lexer": "ipython3",
   "version": "3.12.4"
  }
 },
 "nbformat": 4,
 "nbformat_minor": 5
}
